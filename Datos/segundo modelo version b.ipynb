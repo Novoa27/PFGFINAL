{
 "cells": [
  {
   "cell_type": "code",
   "execution_count": 1,
   "id": "7721a4ba",
   "metadata": {},
   "outputs": [],
   "source": [
    "import pandas as pd\n",
    "import numpy as np\n",
    "from tensorflow.keras.models import Sequential\n",
    "from tensorflow.keras.layers import Dense\n",
    "from tensorflow.keras import optimizers\n",
    "from sklearn import preprocessing\n",
    "from sklearn.model_selection import train_test_split\n",
    "from sklearn.preprocessing import LabelEncoder\n",
    "from sklearn.metrics import confusion_matrix\n",
    "import imblearn\n",
    "from imblearn.under_sampling import RandomUnderSampler\n",
    "from imblearn.over_sampling import RandomOverSampler\n",
    "import matplotlib.pyplot as plt"
   ]
  },
  {
   "cell_type": "code",
   "execution_count": 2,
   "id": "89b3d667",
   "metadata": {},
   "outputs": [],
   "source": [
    "from sklearn.linear_model import LinearRegression\n",
    "from sklearn.linear_model import Lasso\n",
    "from sklearn.ensemble import RandomForestRegressor\n",
    "from sklearn.metrics import mean_squared_error\n",
    "\n",
    "from skforecast.ForecasterAutoreg import ForecasterAutoreg\n",
    "from skforecast.ForecasterCustom import ForecasterCustom\n",
    "from skforecast.ForecasterAutoregMultiOutput import ForecasterAutoregMultiOutput\n",
    "from skforecast.model_selection import grid_search_forecaster\n",
    "from skforecast.model_selection import time_series_spliter\n",
    "from skforecast.model_selection import cv_forecaster\n",
    "from skforecast.model_selection import backtesting_forecaster_intervals"
   ]
  },
  {
   "cell_type": "code",
   "execution_count": 3,
   "id": "95f4046a",
   "metadata": {},
   "outputs": [],
   "source": [
    "df_price_btc = pd.read_csv(\"price_BTC_EUR.csv\",delimiter=\",\")"
   ]
  },
  {
   "cell_type": "code",
   "execution_count": 4,
   "id": "694b2f43",
   "metadata": {},
   "outputs": [
    {
     "data": {
      "text/html": [
       "<div>\n",
       "<style scoped>\n",
       "    .dataframe tbody tr th:only-of-type {\n",
       "        vertical-align: middle;\n",
       "    }\n",
       "\n",
       "    .dataframe tbody tr th {\n",
       "        vertical-align: top;\n",
       "    }\n",
       "\n",
       "    .dataframe thead th {\n",
       "        text-align: right;\n",
       "    }\n",
       "</style>\n",
       "<table border=\"1\" class=\"dataframe\">\n",
       "  <thead>\n",
       "    <tr style=\"text-align: right;\">\n",
       "      <th></th>\n",
       "      <th>Unnamed: 0</th>\n",
       "      <th>Date</th>\n",
       "      <th>Open</th>\n",
       "      <th>Close</th>\n",
       "      <th>Diference</th>\n",
       "      <th>Tendencia</th>\n",
       "    </tr>\n",
       "  </thead>\n",
       "  <tbody>\n",
       "    <tr>\n",
       "      <th>0</th>\n",
       "      <td>0</td>\n",
       "      <td>2019-04-22 00:00</td>\n",
       "      <td>5303.36</td>\n",
       "      <td>5305.19</td>\n",
       "      <td>0.034</td>\n",
       "      <td>sin_tendencia</td>\n",
       "    </tr>\n",
       "    <tr>\n",
       "      <th>1</th>\n",
       "      <td>1</td>\n",
       "      <td>2019-04-22 01:00</td>\n",
       "      <td>5305.35</td>\n",
       "      <td>5303.19</td>\n",
       "      <td>-0.041</td>\n",
       "      <td>sin_tendencia</td>\n",
       "    </tr>\n",
       "    <tr>\n",
       "      <th>2</th>\n",
       "      <td>2</td>\n",
       "      <td>2019-04-22 02:00</td>\n",
       "      <td>5303.00</td>\n",
       "      <td>5280.26</td>\n",
       "      <td>-0.431</td>\n",
       "      <td>sin_tendencia</td>\n",
       "    </tr>\n",
       "    <tr>\n",
       "      <th>3</th>\n",
       "      <td>3</td>\n",
       "      <td>2019-04-22 03:00</td>\n",
       "      <td>5280.11</td>\n",
       "      <td>5276.84</td>\n",
       "      <td>-0.062</td>\n",
       "      <td>sin_tendencia</td>\n",
       "    </tr>\n",
       "    <tr>\n",
       "      <th>4</th>\n",
       "      <td>4</td>\n",
       "      <td>2019-04-22 04:00</td>\n",
       "      <td>5276.52</td>\n",
       "      <td>5268.05</td>\n",
       "      <td>-0.161</td>\n",
       "      <td>sin_tendencia</td>\n",
       "    </tr>\n",
       "    <tr>\n",
       "      <th>...</th>\n",
       "      <td>...</td>\n",
       "      <td>...</td>\n",
       "      <td>...</td>\n",
       "      <td>...</td>\n",
       "      <td>...</td>\n",
       "      <td>...</td>\n",
       "    </tr>\n",
       "    <tr>\n",
       "      <th>17384</th>\n",
       "      <td>17384</td>\n",
       "      <td>2021-04-20 19:00</td>\n",
       "      <td>55943.78</td>\n",
       "      <td>56280.71</td>\n",
       "      <td>0.599</td>\n",
       "      <td>tendencia_alcista</td>\n",
       "    </tr>\n",
       "    <tr>\n",
       "      <th>17385</th>\n",
       "      <td>17385</td>\n",
       "      <td>2021-04-20 20:00</td>\n",
       "      <td>56265.43</td>\n",
       "      <td>56590.74</td>\n",
       "      <td>0.575</td>\n",
       "      <td>tendencia_alcista</td>\n",
       "    </tr>\n",
       "    <tr>\n",
       "      <th>17386</th>\n",
       "      <td>17386</td>\n",
       "      <td>2021-04-20 21:00</td>\n",
       "      <td>56606.32</td>\n",
       "      <td>56834.63</td>\n",
       "      <td>0.402</td>\n",
       "      <td>sin_tendencia</td>\n",
       "    </tr>\n",
       "    <tr>\n",
       "      <th>17387</th>\n",
       "      <td>17387</td>\n",
       "      <td>2021-04-20 22:00</td>\n",
       "      <td>56784.97</td>\n",
       "      <td>56760.19</td>\n",
       "      <td>-0.044</td>\n",
       "      <td>sin_tendencia</td>\n",
       "    </tr>\n",
       "    <tr>\n",
       "      <th>17388</th>\n",
       "      <td>17388</td>\n",
       "      <td>2021-04-20 23:00</td>\n",
       "      <td>56762.67</td>\n",
       "      <td>56762.67</td>\n",
       "      <td>0.000</td>\n",
       "      <td>sin_tendencia</td>\n",
       "    </tr>\n",
       "  </tbody>\n",
       "</table>\n",
       "<p>17389 rows × 6 columns</p>\n",
       "</div>"
      ],
      "text/plain": [
       "       Unnamed: 0              Date      Open     Close  Diference  \\\n",
       "0               0  2019-04-22 00:00   5303.36   5305.19      0.034   \n",
       "1               1  2019-04-22 01:00   5305.35   5303.19     -0.041   \n",
       "2               2  2019-04-22 02:00   5303.00   5280.26     -0.431   \n",
       "3               3  2019-04-22 03:00   5280.11   5276.84     -0.062   \n",
       "4               4  2019-04-22 04:00   5276.52   5268.05     -0.161   \n",
       "...           ...               ...       ...       ...        ...   \n",
       "17384       17384  2021-04-20 19:00  55943.78  56280.71      0.599   \n",
       "17385       17385  2021-04-20 20:00  56265.43  56590.74      0.575   \n",
       "17386       17386  2021-04-20 21:00  56606.32  56834.63      0.402   \n",
       "17387       17387  2021-04-20 22:00  56784.97  56760.19     -0.044   \n",
       "17388       17388  2021-04-20 23:00  56762.67  56762.67      0.000   \n",
       "\n",
       "               Tendencia  \n",
       "0          sin_tendencia  \n",
       "1          sin_tendencia  \n",
       "2          sin_tendencia  \n",
       "3          sin_tendencia  \n",
       "4          sin_tendencia  \n",
       "...                  ...  \n",
       "17384  tendencia_alcista  \n",
       "17385  tendencia_alcista  \n",
       "17386      sin_tendencia  \n",
       "17387      sin_tendencia  \n",
       "17388      sin_tendencia  \n",
       "\n",
       "[17389 rows x 6 columns]"
      ]
     },
     "execution_count": 4,
     "metadata": {},
     "output_type": "execute_result"
    }
   ],
   "source": [
    "df_price_btc"
   ]
  },
  {
   "cell_type": "code",
   "execution_count": 5,
   "id": "d9bbe879",
   "metadata": {},
   "outputs": [],
   "source": [
    "date = df_price_btc.Date\n",
    "datos = df_price_btc[\"Tendencia\"]\n",
    "datos = datos[:]"
   ]
  },
  {
   "cell_type": "code",
   "execution_count": 6,
   "id": "a0d09cfe",
   "metadata": {},
   "outputs": [],
   "source": [
    "datos = datos.values\n",
    "for i in range (datos.shape[0]):\n",
    "    if datos[i] == \"sin_tendencia\":\n",
    "        datos[i] = 1\n",
    "    if datos[i] == \"tendencia_alcista\":\n",
    "        datos[i] = 2\n",
    "    if datos[i] == \"tendencia_bajista\":\n",
    "        datos[i] = 0\n",
    "datos = pd.Series(datos)"
   ]
  },
  {
   "cell_type": "code",
   "execution_count": 7,
   "id": "6d4400b9",
   "metadata": {},
   "outputs": [],
   "source": [
    "steps = 45"
   ]
  },
  {
   "cell_type": "code",
   "execution_count": 8,
   "id": "0bd065f2",
   "metadata": {},
   "outputs": [],
   "source": [
    "datos_train = datos[:-steps]\n",
    "datos_test  = datos[-steps:]"
   ]
  },
  {
   "cell_type": "code",
   "execution_count": 9,
   "id": "556d282d",
   "metadata": {},
   "outputs": [
    {
     "data": {
      "image/png": "[encoded data removed]",
      "text/plain": [
       "<Figure size 648x288 with 1 Axes>"
      ]
     },
     "metadata": {
      "needs_background": "light"
     },
     "output_type": "display_data"
    }
   ],
   "source": [
    "fig, ax=plt.subplots(figsize=(9, 4))\n",
    "datos_train.plot(ax=ax, label='train')\n",
    "datos_test.plot(ax=ax, label='test')\n",
    "ax.legend();"
   ]
  },
  {
   "cell_type": "code",
   "execution_count": 10,
   "id": "b297327d",
   "metadata": {},
   "outputs": [
    {
     "data": {
      "text/plain": [
       "=======================ForecasterAutoreg=======================\n",
       "Regressor: RandomForestRegressor(random_state=123)\n",
       "Lags: [ 1  2  3  4  5  6  7  8  9 10 11 12 13 14 15 16 17 18 19 20 21 22 23 24\n",
       " 25]\n",
       "Exogenous variable: False\n",
       "Parameters: {'bootstrap': True, 'ccp_alpha': 0.0, 'criterion': 'mse', 'max_depth': None, 'max_features': 'auto', 'max_leaf_nodes': None, 'max_samples': None, 'min_impurity_decrease': 0.0, 'min_impurity_split': None, 'min_samples_leaf': 1, 'min_samples_split': 2, 'min_weight_fraction_leaf': 0.0, 'n_estimators': 100, 'n_jobs': None, 'oob_score': False, 'random_state': 123, 'verbose': 0, 'warm_start': False}"
      ]
     },
     "execution_count": 10,
     "metadata": {},
     "output_type": "execute_result"
    }
   ],
   "source": [
    "forecaster_rf = ForecasterAutoreg(\n",
    "                    regressor=RandomForestRegressor(random_state=123),\n",
    "                    lags=25\n",
    "                )\n",
    "\n",
    "forecaster_rf.fit(y=datos_train)\n",
    "\n",
    "forecaster_rf"
   ]
  },
  {
   "cell_type": "code",
   "execution_count": 11,
   "id": "8e241e53",
   "metadata": {},
   "outputs": [],
   "source": [
    "predicciones = forecaster_rf.predict(steps=steps)\n",
    "# Se añade el índice temporal a las predicciones\n",
    "predicciones = pd.Series(data=predicciones, index=datos_test.index)"
   ]
  },
  {
   "cell_type": "code",
   "execution_count": 12,
   "id": "6affa527",
   "metadata": {},
   "outputs": [
    {
     "data": {
      "image/png": "[encoded data removed]",
      "text/plain": [
       "<Figure size 648x288 with 1 Axes>"
      ]
     },
     "metadata": {
      "needs_background": "light"
     },
     "output_type": "display_data"
    }
   ],
   "source": [
    "\n",
    "\n",
    "# Gráfico\n",
    "# ==============================================================================\n",
    "fig, ax = plt.subplots(figsize=(9, 4))\n",
    "datos_train.plot(ax=ax, label='train')\n",
    "datos_test.plot(ax=ax, label='test')\n",
    "predicciones.plot(ax=ax, label='predicciones')\n",
    "ax.legend();\n",
    "\n"
   ]
  },
  {
   "cell_type": "code",
   "execution_count": 13,
   "id": "3bf975aa",
   "metadata": {
    "scrolled": true
   },
   "outputs": [],
   "source": [
    "test_y = datos_test.values\n",
    "pred_y = predicciones.values\n",
    "num_aciertos = 0\n",
    "num_fallos = 0\n",
    "for i in range (datos_test.shape[0]):\n",
    "    #print(np.round(test_y[i]), \"\\t\" ,np.round(pred_y[i]))\n",
    "    if np.round(test_y[i]) == np.round(pred_y[i]):\n",
    "        num_aciertos +=1\n",
    "    else:\n",
    "        num_fallos +=1\n",
    "acc = num_aciertos/(num_aciertos+num_fallos)"
   ]
  },
  {
   "cell_type": "code",
   "execution_count": 14,
   "id": "adab108b",
   "metadata": {},
   "outputs": [
    {
     "data": {
      "text/plain": [
       "0.37777777777777777"
      ]
     },
     "execution_count": 14,
     "metadata": {},
     "output_type": "execute_result"
    }
   ],
   "source": [
    "acc"
   ]
  },
  {
   "cell_type": "code",
   "execution_count": null,
   "id": "0442a9d3",
   "metadata": {},
   "outputs": [],
   "source": []
  },
  {
   "cell_type": "code",
   "execution_count": null,
   "id": "df5bd3d9",
   "metadata": {},
   "outputs": [],
   "source": []
  }
 ],
 "metadata": {
  "kernelspec": {
   "display_name": "Python 3",
   "language": "python",
   "name": "python3"
  },
  "language_info": {
   "codemirror_mode": {
    "name": "ipython",
    "version": 3
   },
   "file_extension": ".py",
   "mimetype": "text/x-python",
   "name": "python",
   "nbconvert_exporter": "python",
   "pygments_lexer": "ipython3",
   "version": "3.6.8"
  }
 },
 "nbformat": 4,
 "nbformat_minor": 5
}
