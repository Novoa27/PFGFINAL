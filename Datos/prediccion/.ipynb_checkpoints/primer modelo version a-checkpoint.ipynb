{
 "cells": [
  {
   "cell_type": "code",
   "execution_count": 1,
   "id": "49cf5dbc",
   "metadata": {},
   "outputs": [
    {
     "name": "stdout",
     "output_type": "stream",
     "text": [
      "Once deleted, variables cannot be recovered. Proceed (y/[n])? y\n"
     ]
    }
   ],
   "source": [
    "%reset\n",
    "import pandas as pd\n",
    "import numpy as np\n",
    "from tensorflow.keras.models import Sequential\n",
    "from tensorflow.keras.layers import Dense\n",
    "from tensorflow.keras import optimizers\n",
    "from sklearn import preprocessing\n",
    "from sklearn.model_selection import train_test_split\n",
    "from sklearn.preprocessing import LabelEncoder\n",
    "from sklearn.metrics import confusion_matrix\n",
    "import imblearn\n",
    "from imblearn.under_sampling import RandomUnderSampler\n",
    "from imblearn.over_sampling import RandomOverSampler"
   ]
  },
  {
   "cell_type": "code",
   "execution_count": 2,
   "id": "5d08784e",
   "metadata": {},
   "outputs": [],
   "source": [
    "df_price_btc = pd.read_csv(\"price_BTC_EUR.csv\",delimiter=\";\")"
   ]
  },
  {
   "cell_type": "code",
   "execution_count": 3,
   "id": "85ebab5f",
   "metadata": {},
   "outputs": [
    {
     "data": {
      "text/html": [
       "<div>\n",
       "<style scoped>\n",
       "    .dataframe tbody tr th:only-of-type {\n",
       "        vertical-align: middle;\n",
       "    }\n",
       "\n",
       "    .dataframe tbody tr th {\n",
       "        vertical-align: top;\n",
       "    }\n",
       "\n",
       "    .dataframe thead th {\n",
       "        text-align: right;\n",
       "    }\n",
       "</style>\n",
       "<table border=\"1\" class=\"dataframe\">\n",
       "  <thead>\n",
       "    <tr style=\"text-align: right;\">\n",
       "      <th></th>\n",
       "      <th>Date</th>\n",
       "      <th>Time</th>\n",
       "      <th>Open</th>\n",
       "      <th>Close</th>\n",
       "      <th>Diference</th>\n",
       "      <th>Tendencia</th>\n",
       "      <th>bitcoin</th>\n",
       "      <th>blockchain</th>\n",
       "      <th>cryptocurrency</th>\n",
       "      <th>Ethereum</th>\n",
       "      <th>mining</th>\n",
       "      <th>Nvidia</th>\n",
       "    </tr>\n",
       "  </thead>\n",
       "  <tbody>\n",
       "    <tr>\n",
       "      <th>0</th>\n",
       "      <td>22/04/2019</td>\n",
       "      <td>0:00</td>\n",
       "      <td>5303.36</td>\n",
       "      <td>5305.19</td>\n",
       "      <td>0.034</td>\n",
       "      <td>sin_tendencia</td>\n",
       "      <td>12</td>\n",
       "      <td>38</td>\n",
       "      <td>9</td>\n",
       "      <td>7</td>\n",
       "      <td>41</td>\n",
       "      <td>52</td>\n",
       "    </tr>\n",
       "    <tr>\n",
       "      <th>1</th>\n",
       "      <td>22/04/2019</td>\n",
       "      <td>1:00</td>\n",
       "      <td>5305.35</td>\n",
       "      <td>5303.19</td>\n",
       "      <td>-0.041</td>\n",
       "      <td>sin_tendencia</td>\n",
       "      <td>12</td>\n",
       "      <td>38</td>\n",
       "      <td>9</td>\n",
       "      <td>7</td>\n",
       "      <td>41</td>\n",
       "      <td>52</td>\n",
       "    </tr>\n",
       "    <tr>\n",
       "      <th>2</th>\n",
       "      <td>22/04/2019</td>\n",
       "      <td>2:00</td>\n",
       "      <td>5303.00</td>\n",
       "      <td>5280.26</td>\n",
       "      <td>-0.431</td>\n",
       "      <td>sin_tendencia</td>\n",
       "      <td>12</td>\n",
       "      <td>38</td>\n",
       "      <td>9</td>\n",
       "      <td>7</td>\n",
       "      <td>41</td>\n",
       "      <td>52</td>\n",
       "    </tr>\n",
       "    <tr>\n",
       "      <th>3</th>\n",
       "      <td>22/04/2019</td>\n",
       "      <td>3:00</td>\n",
       "      <td>5280.11</td>\n",
       "      <td>5276.84</td>\n",
       "      <td>-0.062</td>\n",
       "      <td>sin_tendencia</td>\n",
       "      <td>12</td>\n",
       "      <td>38</td>\n",
       "      <td>9</td>\n",
       "      <td>7</td>\n",
       "      <td>41</td>\n",
       "      <td>52</td>\n",
       "    </tr>\n",
       "    <tr>\n",
       "      <th>4</th>\n",
       "      <td>22/04/2019</td>\n",
       "      <td>4:00</td>\n",
       "      <td>5276.52</td>\n",
       "      <td>5268.05</td>\n",
       "      <td>-0.161</td>\n",
       "      <td>sin_tendencia</td>\n",
       "      <td>12</td>\n",
       "      <td>38</td>\n",
       "      <td>9</td>\n",
       "      <td>7</td>\n",
       "      <td>41</td>\n",
       "      <td>52</td>\n",
       "    </tr>\n",
       "  </tbody>\n",
       "</table>\n",
       "</div>"
      ],
      "text/plain": [
       "         Date  Time     Open    Close  Diference      Tendencia  bitcoin  \\\n",
       "0  22/04/2019  0:00  5303.36  5305.19      0.034  sin_tendencia       12   \n",
       "1  22/04/2019  1:00  5305.35  5303.19     -0.041  sin_tendencia       12   \n",
       "2  22/04/2019  2:00  5303.00  5280.26     -0.431  sin_tendencia       12   \n",
       "3  22/04/2019  3:00  5280.11  5276.84     -0.062  sin_tendencia       12   \n",
       "4  22/04/2019  4:00  5276.52  5268.05     -0.161  sin_tendencia       12   \n",
       "\n",
       "   blockchain  cryptocurrency  Ethereum  mining  Nvidia  \n",
       "0          38               9         7      41      52  \n",
       "1          38               9         7      41      52  \n",
       "2          38               9         7      41      52  \n",
       "3          38               9         7      41      52  \n",
       "4          38               9         7      41      52  "
      ]
     },
     "execution_count": 3,
     "metadata": {},
     "output_type": "execute_result"
    }
   ],
   "source": [
    "df_price_btc.head()"
   ]
  },
  {
   "cell_type": "code",
   "execution_count": 4,
   "id": "e393980f",
   "metadata": {},
   "outputs": [
    {
     "data": {
      "text/html": [
       "<div>\n",
       "<style scoped>\n",
       "    .dataframe tbody tr th:only-of-type {\n",
       "        vertical-align: middle;\n",
       "    }\n",
       "\n",
       "    .dataframe tbody tr th {\n",
       "        vertical-align: top;\n",
       "    }\n",
       "\n",
       "    .dataframe thead th {\n",
       "        text-align: right;\n",
       "    }\n",
       "</style>\n",
       "<table border=\"1\" class=\"dataframe\">\n",
       "  <thead>\n",
       "    <tr style=\"text-align: right;\">\n",
       "      <th></th>\n",
       "      <th>Date</th>\n",
       "      <th>Time</th>\n",
       "      <th>Open</th>\n",
       "      <th>Close</th>\n",
       "      <th>Diference</th>\n",
       "      <th>Tendencia</th>\n",
       "      <th>bitcoin</th>\n",
       "      <th>blockchain</th>\n",
       "      <th>cryptocurrency</th>\n",
       "      <th>Ethereum</th>\n",
       "      <th>mining</th>\n",
       "      <th>Nvidia</th>\n",
       "    </tr>\n",
       "  </thead>\n",
       "  <tbody>\n",
       "    <tr>\n",
       "      <th>0</th>\n",
       "      <td>22/04/2019</td>\n",
       "      <td>0:00</td>\n",
       "      <td>5303.36</td>\n",
       "      <td>5305.19</td>\n",
       "      <td>0.034</td>\n",
       "      <td>sin_tendencia</td>\n",
       "      <td>12</td>\n",
       "      <td>38</td>\n",
       "      <td>9</td>\n",
       "      <td>7</td>\n",
       "      <td>41</td>\n",
       "      <td>52</td>\n",
       "    </tr>\n",
       "    <tr>\n",
       "      <th>1</th>\n",
       "      <td>22/04/2019</td>\n",
       "      <td>1:00</td>\n",
       "      <td>5305.35</td>\n",
       "      <td>5303.19</td>\n",
       "      <td>-0.041</td>\n",
       "      <td>sin_tendencia</td>\n",
       "      <td>12</td>\n",
       "      <td>38</td>\n",
       "      <td>9</td>\n",
       "      <td>7</td>\n",
       "      <td>41</td>\n",
       "      <td>52</td>\n",
       "    </tr>\n",
       "    <tr>\n",
       "      <th>2</th>\n",
       "      <td>22/04/2019</td>\n",
       "      <td>2:00</td>\n",
       "      <td>5303.00</td>\n",
       "      <td>5280.26</td>\n",
       "      <td>-0.431</td>\n",
       "      <td>sin_tendencia</td>\n",
       "      <td>12</td>\n",
       "      <td>38</td>\n",
       "      <td>9</td>\n",
       "      <td>7</td>\n",
       "      <td>41</td>\n",
       "      <td>52</td>\n",
       "    </tr>\n",
       "    <tr>\n",
       "      <th>3</th>\n",
       "      <td>22/04/2019</td>\n",
       "      <td>3:00</td>\n",
       "      <td>5280.11</td>\n",
       "      <td>5276.84</td>\n",
       "      <td>-0.062</td>\n",
       "      <td>sin_tendencia</td>\n",
       "      <td>12</td>\n",
       "      <td>38</td>\n",
       "      <td>9</td>\n",
       "      <td>7</td>\n",
       "      <td>41</td>\n",
       "      <td>52</td>\n",
       "    </tr>\n",
       "    <tr>\n",
       "      <th>4</th>\n",
       "      <td>22/04/2019</td>\n",
       "      <td>4:00</td>\n",
       "      <td>5276.52</td>\n",
       "      <td>5268.05</td>\n",
       "      <td>-0.161</td>\n",
       "      <td>sin_tendencia</td>\n",
       "      <td>12</td>\n",
       "      <td>38</td>\n",
       "      <td>9</td>\n",
       "      <td>7</td>\n",
       "      <td>41</td>\n",
       "      <td>52</td>\n",
       "    </tr>\n",
       "  </tbody>\n",
       "</table>\n",
       "</div>"
      ],
      "text/plain": [
       "         Date  Time     Open    Close  Diference      Tendencia  bitcoin  \\\n",
       "0  22/04/2019  0:00  5303.36  5305.19      0.034  sin_tendencia       12   \n",
       "1  22/04/2019  1:00  5305.35  5303.19     -0.041  sin_tendencia       12   \n",
       "2  22/04/2019  2:00  5303.00  5280.26     -0.431  sin_tendencia       12   \n",
       "3  22/04/2019  3:00  5280.11  5276.84     -0.062  sin_tendencia       12   \n",
       "4  22/04/2019  4:00  5276.52  5268.05     -0.161  sin_tendencia       12   \n",
       "\n",
       "   blockchain  cryptocurrency  Ethereum  mining  Nvidia  \n",
       "0          38               9         7      41      52  \n",
       "1          38               9         7      41      52  \n",
       "2          38               9         7      41      52  \n",
       "3          38               9         7      41      52  \n",
       "4          38               9         7      41      52  "
      ]
     },
     "execution_count": 4,
     "metadata": {},
     "output_type": "execute_result"
    }
   ],
   "source": [
    "df_aux = df_price_btc\n",
    "df_aux.head(5)"
   ]
  },
  {
   "cell_type": "code",
   "execution_count": 5,
   "id": "067f70cd",
   "metadata": {},
   "outputs": [],
   "source": [
    "#dividimos x e y\n",
    "#salidas = \"Tendencia\"\n",
    "y = df_aux.Tendencia\n",
    "x = df_aux.drop(columns=[\"Tendencia\",\"Diference\",\"Date\",\"Time\",\"Close\"])"
   ]
  },
  {
   "cell_type": "code",
   "execution_count": 6,
   "id": "f5e6b5ab",
   "metadata": {},
   "outputs": [],
   "source": [
    "undersample = RandomUnderSampler(sampling_strategy='majority')\n",
    "x, y = undersample.fit_resample(x, y)"
   ]
  },
  {
   "cell_type": "code",
   "execution_count": 7,
   "id": "63454973",
   "metadata": {},
   "outputs": [],
   "source": [
    "y = pd.factorize(y)[0]"
   ]
  },
  {
   "cell_type": "code",
   "execution_count": 8,
   "id": "9bb78ba7",
   "metadata": {},
   "outputs": [
    {
     "data": {
      "text/plain": [
       "array([[0.12097401, 0.0877193 , 0.11764706, ..., 0.16842105, 0.24390244,\n",
       "        0.42857143],\n",
       "       [0.21004873, 0.22807018, 0.14705882, ..., 0.16842105, 0.17073171,\n",
       "        0.39285714],\n",
       "       [0.07025698, 0.15789474, 0.11764706, ..., 0.06315789, 0.14634146,\n",
       "        0.51785714],\n",
       "       ...,\n",
       "       [0.84319123, 0.85964912, 0.70588235, ..., 0.81052632, 0.87804878,\n",
       "        0.        ],\n",
       "       [0.8609886 , 0.85964912, 0.70588235, ..., 0.81052632, 0.87804878,\n",
       "        0.        ],\n",
       "       [0.86134971, 0.85964912, 0.70588235, ..., 0.81052632, 0.87804878,\n",
       "        0.        ]])"
      ]
     },
     "execution_count": 8,
     "metadata": {},
     "output_type": "execute_result"
    }
   ],
   "source": [
    "min_max_scaler = preprocessing.MinMaxScaler()\n",
    "datos_scaled = min_max_scaler.fit_transform(x)\n",
    "x = pd.DataFrame(datos_scaled)\n",
    "\n",
    "x = x.values\n",
    "x"
   ]
  },
  {
   "cell_type": "code",
   "execution_count": 9,
   "id": "5e7c974e",
   "metadata": {},
   "outputs": [],
   "source": [
    "aux_y = np.zeros((y.shape[0],3))\n",
    "aux_y\n",
    "for i in range(y.shape[0]):\n",
    "    if y[i] == 0:\n",
    "        aux_y[i]=[1,0,0]\n",
    "    if y[i] == 1:\n",
    "        aux_y[i]=[0,1,0]\n",
    "    if y[i] == 2:\n",
    "        aux_y[i]=[0,0,1]"
   ]
  },
  {
   "cell_type": "code",
   "execution_count": 10,
   "id": "83eb2fd5",
   "metadata": {},
   "outputs": [],
   "source": [
    "x_train, x_test, y_train, y_test = train_test_split(x,aux_y,test_size=0.20)"
   ]
  },
  {
   "cell_type": "code",
   "execution_count": 11,
   "id": "e002d8ad",
   "metadata": {
    "scrolled": true
   },
   "outputs": [
    {
     "name": "stdout",
     "output_type": "stream",
     "text": [
      "Epoch 1/5\n",
      "173/173 [==============================] - 6s 29ms/step - loss: 3.7457 - acc: 0.3383\n",
      "Epoch 2/5\n",
      "173/173 [==============================] - 5s 30ms/step - loss: 1.1057 - acc: 0.3479\n",
      "Epoch 3/5\n",
      "173/173 [==============================] - 5s 31ms/step - loss: 1.1036 - acc: 0.3455\n",
      "Epoch 4/5\n",
      "173/173 [==============================] - 5s 31ms/step - loss: 1.1048 - acc: 0.3365\n",
      "Epoch 5/5\n",
      "173/173 [==============================] - 5s 31ms/step - loss: 1.0997 - acc: 0.3512\n"
     ]
    },
    {
     "data": {
      "text/plain": [
       "<tensorflow.python.keras.callbacks.History at 0x225eb96d898>"
      ]
     },
     "execution_count": 11,
     "metadata": {},
     "output_type": "execute_result"
    }
   ],
   "source": [
    "#****** Crear modelo ******\n",
    "model = Sequential()\n",
    "# primera capa (entrada)\n",
    "model.add(Dense(x.shape[1], activation = 'relu', input_dim = x.shape[1]))\n",
    "# primera capa oculta\n",
    "model.add(Dense(units = 3000, activation = 'sigmoid'))\n",
    "# segunda capa oculta\n",
    "model.add(Dense(units = 3000, activation = 'sigmoid'))\n",
    "#capa de salida\n",
    "model.add(Dense(3, activation = 'sigmoid'))\n",
    "#\n",
    "# definicion de la regla delta generalizada\n",
    "opt = optimizers.SGD(learning_rate=0.2)\n",
    "#\n",
    "model.compile(loss='categorical_crossentropy', optimizer= opt, metrics = ['acc'])\n",
    "#****** Entrenamiento ******\n",
    "model.fit(x_train,y_train,validation_split = 0.0, epochs = 5,verbose=1)"
   ]
  },
  {
   "cell_type": "code",
   "execution_count": 12,
   "id": "65d07c6d",
   "metadata": {},
   "outputs": [
    {
     "data": {
      "text/plain": [
       "array([[0., 1., 0.],\n",
       "       [0., 1., 0.],\n",
       "       [0., 1., 0.],\n",
       "       ...,\n",
       "       [0., 1., 0.],\n",
       "       [0., 1., 0.],\n",
       "       [0., 1., 0.]], dtype=float32)"
      ]
     },
     "execution_count": 12,
     "metadata": {},
     "output_type": "execute_result"
    }
   ],
   "source": [
    "y_pred = model.predict(x_test)\n",
    "np.round(y_pred)\n",
    "#confusion_matrix(y_test, y_pred)"
   ]
  },
  {
   "cell_type": "code",
   "execution_count": 13,
   "id": "f444993c",
   "metadata": {},
   "outputs": [
    {
     "data": {
      "text/plain": [
       "array([[0.45190448, 0.5426048 , 0.4890768 ],\n",
       "       [0.45186773, 0.54255307, 0.48916522],\n",
       "       [0.45191106, 0.5426141 , 0.48905978],\n",
       "       ...,\n",
       "       [0.45192653, 0.542619  , 0.48904893],\n",
       "       [0.4515601 , 0.5424695 , 0.48942927],\n",
       "       [0.45191106, 0.5426141 , 0.48905978]], dtype=float32)"
      ]
     },
     "execution_count": 13,
     "metadata": {},
     "output_type": "execute_result"
    }
   ],
   "source": [
    "y_pred"
   ]
  },
  {
   "cell_type": "code",
   "execution_count": 14,
   "id": "66c573d9",
   "metadata": {},
   "outputs": [
    {
     "data": {
      "text/plain": [
       "array([[1., 0., 0.],\n",
       "       [0., 0., 1.],\n",
       "       [1., 0., 0.],\n",
       "       ...,\n",
       "       [0., 1., 0.],\n",
       "       [1., 0., 0.],\n",
       "       [0., 1., 0.]])"
      ]
     },
     "execution_count": 14,
     "metadata": {},
     "output_type": "execute_result"
    }
   ],
   "source": [
    "y_test"
   ]
  },
  {
   "cell_type": "code",
   "execution_count": 15,
   "id": "28506d3d",
   "metadata": {},
   "outputs": [
    {
     "name": "stdout",
     "output_type": "stream",
     "text": [
      "173/173 [==============================] - 2s 8ms/step - loss: 1.1008 - acc: 0.3634\n"
     ]
    },
    {
     "data": {
      "text/plain": [
       "[1.1007742881774902, 0.36342257261276245]"
      ]
     },
     "execution_count": 15,
     "metadata": {},
     "output_type": "execute_result"
    }
   ],
   "source": [
    "model.evaluate(x_train,y_train)"
   ]
  },
  {
   "cell_type": "code",
   "execution_count": 16,
   "id": "d2233790",
   "metadata": {},
   "outputs": [
    {
     "name": "stdout",
     "output_type": "stream",
     "text": [
      "44/44 [==============================] - 0s 8ms/step - loss: 1.1065 - acc: 0.3495\n"
     ]
    },
    {
     "data": {
      "text/plain": [
       "[1.1064844131469727, 0.34949347376823425]"
      ]
     },
     "execution_count": 16,
     "metadata": {},
     "output_type": "execute_result"
    }
   ],
   "source": [
    "model.evaluate(x_test,y_test)"
   ]
  },
  {
   "cell_type": "code",
   "execution_count": null,
   "id": "3cf47996",
   "metadata": {},
   "outputs": [],
   "source": []
  },
  {
   "cell_type": "code",
   "execution_count": null,
   "id": "28796ad3",
   "metadata": {},
   "outputs": [],
   "source": []
  },
  {
   "cell_type": "code",
   "execution_count": null,
   "id": "81b5a589",
   "metadata": {},
   "outputs": [],
   "source": []
  },
  {
   "cell_type": "code",
   "execution_count": null,
   "id": "5acabfa3",
   "metadata": {},
   "outputs": [],
   "source": []
  },
  {
   "cell_type": "code",
   "execution_count": null,
   "id": "4e2afef3",
   "metadata": {},
   "outputs": [],
   "source": []
  },
  {
   "cell_type": "code",
   "execution_count": null,
   "id": "0459a9c4",
   "metadata": {},
   "outputs": [],
   "source": []
  },
  {
   "cell_type": "code",
   "execution_count": null,
   "id": "634efcca",
   "metadata": {},
   "outputs": [],
   "source": []
  },
  {
   "cell_type": "code",
   "execution_count": null,
   "id": "c1bf4eae",
   "metadata": {},
   "outputs": [],
   "source": []
  },
  {
   "cell_type": "code",
   "execution_count": null,
   "id": "e8c3f67d",
   "metadata": {},
   "outputs": [],
   "source": []
  },
  {
   "cell_type": "code",
   "execution_count": null,
   "id": "616775c0",
   "metadata": {},
   "outputs": [],
   "source": []
  }
 ],
 "metadata": {
  "kernelspec": {
   "display_name": "Python 3",
   "language": "python",
   "name": "python3"
  },
  "language_info": {
   "codemirror_mode": {
    "name": "ipython",
    "version": 3
   },
   "file_extension": ".py",
   "mimetype": "text/x-python",
   "name": "python",
   "nbconvert_exporter": "python",
   "pygments_lexer": "ipython3",
   "version": "3.6.8"
  }
 },
 "nbformat": 4,
 "nbformat_minor": 5
}
