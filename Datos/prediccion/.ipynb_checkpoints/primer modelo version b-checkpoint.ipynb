{
 "cells": [
  {
   "cell_type": "code",
   "execution_count": 1,
   "id": "49cf5dbc",
   "metadata": {},
   "outputs": [
    {
     "name": "stdout",
     "output_type": "stream",
     "text": [
      "Once deleted, variables cannot be recovered. Proceed (y/[n])? y\n"
     ]
    }
   ],
   "source": [
    "%reset\n",
    "import pandas as pd\n",
    "import numpy as np\n",
    "from tensorflow.keras.models import Sequential\n",
    "from tensorflow.keras.layers import Dense\n",
    "from tensorflow.keras import optimizers\n",
    "from sklearn import preprocessing\n",
    "from sklearn.model_selection import train_test_split\n",
    "from sklearn.preprocessing import LabelEncoder\n",
    "from sklearn.metrics import confusion_matrix\n",
    "import imblearn\n",
    "from imblearn.under_sampling import RandomUnderSampler\n",
    "from imblearn.over_sampling import RandomOverSampler"
   ]
  },
  {
   "cell_type": "code",
   "execution_count": 2,
   "id": "5d08784e",
   "metadata": {},
   "outputs": [],
   "source": [
    "df_price_btc = pd.read_csv(\"price_BTC_EUR.csv\",delimiter=\";\")"
   ]
  },
  {
   "cell_type": "code",
   "execution_count": 3,
   "id": "85ebab5f",
   "metadata": {},
   "outputs": [
    {
     "data": {
      "text/html": [
       "<div>\n",
       "<style scoped>\n",
       "    .dataframe tbody tr th:only-of-type {\n",
       "        vertical-align: middle;\n",
       "    }\n",
       "\n",
       "    .dataframe tbody tr th {\n",
       "        vertical-align: top;\n",
       "    }\n",
       "\n",
       "    .dataframe thead th {\n",
       "        text-align: right;\n",
       "    }\n",
       "</style>\n",
       "<table border=\"1\" class=\"dataframe\">\n",
       "  <thead>\n",
       "    <tr style=\"text-align: right;\">\n",
       "      <th></th>\n",
       "      <th>Date</th>\n",
       "      <th>Time</th>\n",
       "      <th>Open</th>\n",
       "      <th>Close</th>\n",
       "      <th>Diference</th>\n",
       "      <th>Tendencia</th>\n",
       "      <th>bitcoin</th>\n",
       "      <th>blockchain</th>\n",
       "      <th>cryptocurrency</th>\n",
       "      <th>Ethereum</th>\n",
       "      <th>mining</th>\n",
       "      <th>Nvidia</th>\n",
       "    </tr>\n",
       "  </thead>\n",
       "  <tbody>\n",
       "    <tr>\n",
       "      <th>0</th>\n",
       "      <td>22/04/2019</td>\n",
       "      <td>0:00</td>\n",
       "      <td>5303.36</td>\n",
       "      <td>5305.19</td>\n",
       "      <td>0.034</td>\n",
       "      <td>sin_tendencia</td>\n",
       "      <td>12</td>\n",
       "      <td>38</td>\n",
       "      <td>9</td>\n",
       "      <td>7</td>\n",
       "      <td>41</td>\n",
       "      <td>52</td>\n",
       "    </tr>\n",
       "    <tr>\n",
       "      <th>1</th>\n",
       "      <td>22/04/2019</td>\n",
       "      <td>1:00</td>\n",
       "      <td>5305.35</td>\n",
       "      <td>5303.19</td>\n",
       "      <td>-0.041</td>\n",
       "      <td>sin_tendencia</td>\n",
       "      <td>12</td>\n",
       "      <td>38</td>\n",
       "      <td>9</td>\n",
       "      <td>7</td>\n",
       "      <td>41</td>\n",
       "      <td>52</td>\n",
       "    </tr>\n",
       "    <tr>\n",
       "      <th>2</th>\n",
       "      <td>22/04/2019</td>\n",
       "      <td>2:00</td>\n",
       "      <td>5303.00</td>\n",
       "      <td>5280.26</td>\n",
       "      <td>-0.431</td>\n",
       "      <td>sin_tendencia</td>\n",
       "      <td>12</td>\n",
       "      <td>38</td>\n",
       "      <td>9</td>\n",
       "      <td>7</td>\n",
       "      <td>41</td>\n",
       "      <td>52</td>\n",
       "    </tr>\n",
       "    <tr>\n",
       "      <th>3</th>\n",
       "      <td>22/04/2019</td>\n",
       "      <td>3:00</td>\n",
       "      <td>5280.11</td>\n",
       "      <td>5276.84</td>\n",
       "      <td>-0.062</td>\n",
       "      <td>sin_tendencia</td>\n",
       "      <td>12</td>\n",
       "      <td>38</td>\n",
       "      <td>9</td>\n",
       "      <td>7</td>\n",
       "      <td>41</td>\n",
       "      <td>52</td>\n",
       "    </tr>\n",
       "    <tr>\n",
       "      <th>4</th>\n",
       "      <td>22/04/2019</td>\n",
       "      <td>4:00</td>\n",
       "      <td>5276.52</td>\n",
       "      <td>5268.05</td>\n",
       "      <td>-0.161</td>\n",
       "      <td>sin_tendencia</td>\n",
       "      <td>12</td>\n",
       "      <td>38</td>\n",
       "      <td>9</td>\n",
       "      <td>7</td>\n",
       "      <td>41</td>\n",
       "      <td>52</td>\n",
       "    </tr>\n",
       "  </tbody>\n",
       "</table>\n",
       "</div>"
      ],
      "text/plain": [
       "         Date  Time     Open    Close  Diference      Tendencia  bitcoin  \\\n",
       "0  22/04/2019  0:00  5303.36  5305.19      0.034  sin_tendencia       12   \n",
       "1  22/04/2019  1:00  5305.35  5303.19     -0.041  sin_tendencia       12   \n",
       "2  22/04/2019  2:00  5303.00  5280.26     -0.431  sin_tendencia       12   \n",
       "3  22/04/2019  3:00  5280.11  5276.84     -0.062  sin_tendencia       12   \n",
       "4  22/04/2019  4:00  5276.52  5268.05     -0.161  sin_tendencia       12   \n",
       "\n",
       "   blockchain  cryptocurrency  Ethereum  mining  Nvidia  \n",
       "0          38               9         7      41      52  \n",
       "1          38               9         7      41      52  \n",
       "2          38               9         7      41      52  \n",
       "3          38               9         7      41      52  \n",
       "4          38               9         7      41      52  "
      ]
     },
     "execution_count": 3,
     "metadata": {},
     "output_type": "execute_result"
    }
   ],
   "source": [
    "df_price_btc.head()"
   ]
  },
  {
   "cell_type": "code",
   "execution_count": 4,
   "id": "e393980f",
   "metadata": {},
   "outputs": [
    {
     "data": {
      "text/html": [
       "<div>\n",
       "<style scoped>\n",
       "    .dataframe tbody tr th:only-of-type {\n",
       "        vertical-align: middle;\n",
       "    }\n",
       "\n",
       "    .dataframe tbody tr th {\n",
       "        vertical-align: top;\n",
       "    }\n",
       "\n",
       "    .dataframe thead th {\n",
       "        text-align: right;\n",
       "    }\n",
       "</style>\n",
       "<table border=\"1\" class=\"dataframe\">\n",
       "  <thead>\n",
       "    <tr style=\"text-align: right;\">\n",
       "      <th></th>\n",
       "      <th>Date</th>\n",
       "      <th>Time</th>\n",
       "      <th>Open</th>\n",
       "      <th>Close</th>\n",
       "      <th>Diference</th>\n",
       "      <th>Tendencia</th>\n",
       "      <th>bitcoin</th>\n",
       "      <th>blockchain</th>\n",
       "      <th>cryptocurrency</th>\n",
       "      <th>Ethereum</th>\n",
       "      <th>mining</th>\n",
       "      <th>Nvidia</th>\n",
       "    </tr>\n",
       "  </thead>\n",
       "  <tbody>\n",
       "    <tr>\n",
       "      <th>0</th>\n",
       "      <td>22/04/2019</td>\n",
       "      <td>0:00</td>\n",
       "      <td>5303.36</td>\n",
       "      <td>5305.19</td>\n",
       "      <td>0.034</td>\n",
       "      <td>sin_tendencia</td>\n",
       "      <td>12</td>\n",
       "      <td>38</td>\n",
       "      <td>9</td>\n",
       "      <td>7</td>\n",
       "      <td>41</td>\n",
       "      <td>52</td>\n",
       "    </tr>\n",
       "    <tr>\n",
       "      <th>1</th>\n",
       "      <td>22/04/2019</td>\n",
       "      <td>1:00</td>\n",
       "      <td>5305.35</td>\n",
       "      <td>5303.19</td>\n",
       "      <td>-0.041</td>\n",
       "      <td>sin_tendencia</td>\n",
       "      <td>12</td>\n",
       "      <td>38</td>\n",
       "      <td>9</td>\n",
       "      <td>7</td>\n",
       "      <td>41</td>\n",
       "      <td>52</td>\n",
       "    </tr>\n",
       "    <tr>\n",
       "      <th>2</th>\n",
       "      <td>22/04/2019</td>\n",
       "      <td>2:00</td>\n",
       "      <td>5303.00</td>\n",
       "      <td>5280.26</td>\n",
       "      <td>-0.431</td>\n",
       "      <td>sin_tendencia</td>\n",
       "      <td>12</td>\n",
       "      <td>38</td>\n",
       "      <td>9</td>\n",
       "      <td>7</td>\n",
       "      <td>41</td>\n",
       "      <td>52</td>\n",
       "    </tr>\n",
       "    <tr>\n",
       "      <th>3</th>\n",
       "      <td>22/04/2019</td>\n",
       "      <td>3:00</td>\n",
       "      <td>5280.11</td>\n",
       "      <td>5276.84</td>\n",
       "      <td>-0.062</td>\n",
       "      <td>sin_tendencia</td>\n",
       "      <td>12</td>\n",
       "      <td>38</td>\n",
       "      <td>9</td>\n",
       "      <td>7</td>\n",
       "      <td>41</td>\n",
       "      <td>52</td>\n",
       "    </tr>\n",
       "    <tr>\n",
       "      <th>4</th>\n",
       "      <td>22/04/2019</td>\n",
       "      <td>4:00</td>\n",
       "      <td>5276.52</td>\n",
       "      <td>5268.05</td>\n",
       "      <td>-0.161</td>\n",
       "      <td>sin_tendencia</td>\n",
       "      <td>12</td>\n",
       "      <td>38</td>\n",
       "      <td>9</td>\n",
       "      <td>7</td>\n",
       "      <td>41</td>\n",
       "      <td>52</td>\n",
       "    </tr>\n",
       "  </tbody>\n",
       "</table>\n",
       "</div>"
      ],
      "text/plain": [
       "         Date  Time     Open    Close  Diference      Tendencia  bitcoin  \\\n",
       "0  22/04/2019  0:00  5303.36  5305.19      0.034  sin_tendencia       12   \n",
       "1  22/04/2019  1:00  5305.35  5303.19     -0.041  sin_tendencia       12   \n",
       "2  22/04/2019  2:00  5303.00  5280.26     -0.431  sin_tendencia       12   \n",
       "3  22/04/2019  3:00  5280.11  5276.84     -0.062  sin_tendencia       12   \n",
       "4  22/04/2019  4:00  5276.52  5268.05     -0.161  sin_tendencia       12   \n",
       "\n",
       "   blockchain  cryptocurrency  Ethereum  mining  Nvidia  \n",
       "0          38               9         7      41      52  \n",
       "1          38               9         7      41      52  \n",
       "2          38               9         7      41      52  \n",
       "3          38               9         7      41      52  \n",
       "4          38               9         7      41      52  "
      ]
     },
     "execution_count": 4,
     "metadata": {},
     "output_type": "execute_result"
    }
   ],
   "source": [
    "df_aux = df_price_btc\n",
    "df_aux.head(5)"
   ]
  },
  {
   "cell_type": "code",
   "execution_count": 5,
   "id": "067f70cd",
   "metadata": {},
   "outputs": [],
   "source": [
    "#dividimos x e y\n",
    "#salidas = \"Tendencia\"\n",
    "y = df_aux.Tendencia\n",
    "x = df_aux.drop(columns=[\"Tendencia\",\"Diference\",\"Date\",\"Time\",\"Close\"])"
   ]
  },
  {
   "cell_type": "code",
   "execution_count": 6,
   "id": "f5e6b5ab",
   "metadata": {},
   "outputs": [],
   "source": [
    "undersample = RandomOverSampler(sampling_strategy='minority')\n",
    "x, y = undersample.fit_resample(x, y)"
   ]
  },
  {
   "cell_type": "code",
   "execution_count": 7,
   "id": "63454973",
   "metadata": {},
   "outputs": [],
   "source": [
    "y = pd.factorize(y)[0]"
   ]
  },
  {
   "cell_type": "code",
   "execution_count": 8,
   "id": "9bb78ba7",
   "metadata": {},
   "outputs": [
    {
     "data": {
      "text/plain": [
       "array([[0.01388898, 0.01754386, 0.41176471, ..., 0.02105263, 0.09756098,\n",
       "        0.14285714],\n",
       "       [0.01392204, 0.01754386, 0.41176471, ..., 0.02105263, 0.09756098,\n",
       "        0.14285714],\n",
       "       [0.013883  , 0.01754386, 0.41176471, ..., 0.02105263, 0.09756098,\n",
       "        0.14285714],\n",
       "       ...,\n",
       "       [0.50495467, 0.94736842, 0.61764706, ..., 0.84210526, 0.6097561 ,\n",
       "        0.42857143],\n",
       "       [0.30441331, 0.35087719, 0.17647059, ..., 0.22105263, 0.2195122 ,\n",
       "        0.51785714],\n",
       "       [0.05832452, 0.12280702, 0.47058824, ..., 0.04210526, 0.09756098,\n",
       "        0.05357143]])"
      ]
     },
     "execution_count": 8,
     "metadata": {},
     "output_type": "execute_result"
    }
   ],
   "source": [
    "min_max_scaler = preprocessing.MinMaxScaler()\n",
    "datos_scaled = min_max_scaler.fit_transform(x)\n",
    "x = pd.DataFrame(datos_scaled)\n",
    "\n",
    "x = x.values\n",
    "x"
   ]
  },
  {
   "cell_type": "code",
   "execution_count": 9,
   "id": "5e7c974e",
   "metadata": {},
   "outputs": [],
   "source": [
    "aux_y = np.zeros((y.shape[0],3))\n",
    "aux_y\n",
    "for i in range(y.shape[0]):\n",
    "    if y[i] == 0:\n",
    "        aux_y[i]=[1,0,0]\n",
    "    if y[i] == 1:\n",
    "        aux_y[i]=[0,1,0]\n",
    "    if y[i] == 2:\n",
    "        aux_y[i]=[0,0,1]"
   ]
  },
  {
   "cell_type": "code",
   "execution_count": 10,
   "id": "83eb2fd5",
   "metadata": {},
   "outputs": [],
   "source": [
    "x_train, x_test, y_train, y_test = train_test_split(x,aux_y,test_size=0.20)"
   ]
  },
  {
   "cell_type": "code",
   "execution_count": 11,
   "id": "e002d8ad",
   "metadata": {
    "scrolled": true
   },
   "outputs": [
    {
     "name": "stdout",
     "output_type": "stream",
     "text": [
      "Epoch 1/10\n",
      "697/697 [==============================] - 21s 29ms/step - loss: 1.8431 - acc: 0.4517\n",
      "Epoch 2/10\n",
      "697/697 [==============================] - 21s 30ms/step - loss: 0.9387 - acc: 0.4527\n",
      "Epoch 3/10\n",
      "697/697 [==============================] - 21s 30ms/step - loss: 0.9358 - acc: 0.4597\n",
      "Epoch 4/10\n",
      "697/697 [==============================] - 21s 30ms/step - loss: 0.9393 - acc: 0.4499\n",
      "Epoch 5/10\n",
      "697/697 [==============================] - 21s 30ms/step - loss: 0.9349 - acc: 0.4636\n",
      "Epoch 6/10\n",
      "697/697 [==============================] - 21s 30ms/step - loss: 0.9291 - acc: 0.4728\n",
      "Epoch 7/10\n",
      "697/697 [==============================] - 21s 30ms/step - loss: 0.9260 - acc: 0.4951\n",
      "Epoch 8/10\n",
      "697/697 [==============================] - 21s 31ms/step - loss: 0.9241 - acc: 0.5134\n",
      "Epoch 9/10\n",
      "697/697 [==============================] - 21s 30ms/step - loss: 0.9099 - acc: 0.5368\n",
      "Epoch 10/10\n",
      "697/697 [==============================] - 21s 31ms/step - loss: 0.9107 - acc: 0.5387\n"
     ]
    },
    {
     "data": {
      "text/plain": [
       "<tensorflow.python.keras.callbacks.History at 0x1b4da3d5978>"
      ]
     },
     "execution_count": 11,
     "metadata": {},
     "output_type": "execute_result"
    }
   ],
   "source": [
    "#****** Crear modelo ******\n",
    "model = Sequential()\n",
    "# primera capa (entrada)\n",
    "model.add(Dense(x.shape[1], activation = 'relu', input_dim = x.shape[1]))\n",
    "# primera capa oculta\n",
    "model.add(Dense(units = 3000, activation = 'sigmoid'))\n",
    "# segunda capa oculta\n",
    "model.add(Dense(units = 3000, activation = 'sigmoid'))\n",
    "#capa de salida\n",
    "model.add(Dense(3, activation = 'sigmoid'))\n",
    "#\n",
    "# definicion de la regla delta generalizada\n",
    "opt = optimizers.SGD(learning_rate=0.2)\n",
    "#\n",
    "model.compile(loss='categorical_crossentropy', optimizer= opt, metrics = ['acc'])\n",
    "#****** Entrenamiento ******\n",
    "model.fit(x_train,y_train,validation_split = 0.0, epochs = 10,verbose=1)"
   ]
  },
  {
   "cell_type": "code",
   "execution_count": 12,
   "id": "34e1df47",
   "metadata": {},
   "outputs": [
    {
     "name": "stdout",
     "output_type": "stream",
     "text": [
      "Model: \"sequential\"\n",
      "_________________________________________________________________\n",
      "Layer (type)                 Output Shape              Param #   \n",
      "=================================================================\n",
      "dense (Dense)                (None, 7)                 56        \n",
      "_________________________________________________________________\n",
      "dense_1 (Dense)              (None, 3000)              24000     \n",
      "_________________________________________________________________\n",
      "dense_2 (Dense)              (None, 3000)              9003000   \n",
      "_________________________________________________________________\n",
      "dense_3 (Dense)              (None, 3)                 9003      \n",
      "=================================================================\n",
      "Total params: 9,036,059\n",
      "Trainable params: 9,036,059\n",
      "Non-trainable params: 0\n",
      "_________________________________________________________________\n"
     ]
    }
   ],
   "source": [
    "model.summary()"
   ]
  },
  {
   "cell_type": "code",
   "execution_count": 13,
   "id": "65d07c6d",
   "metadata": {},
   "outputs": [
    {
     "data": {
      "text/plain": [
       "array([[1., 0., 1.],\n",
       "       [1., 0., 1.],\n",
       "       [1., 0., 1.],\n",
       "       ...,\n",
       "       [1., 0., 1.],\n",
       "       [1., 0., 1.],\n",
       "       [1., 0., 1.]], dtype=float32)"
      ]
     },
     "execution_count": 13,
     "metadata": {},
     "output_type": "execute_result"
    }
   ],
   "source": [
    "y_pred = model.predict(x_test)\n",
    "np.round(y_pred)\n",
    "#confusion_matrix(y_test, y_pred)"
   ]
  },
  {
   "cell_type": "code",
   "execution_count": 14,
   "id": "f444993c",
   "metadata": {},
   "outputs": [
    {
     "data": {
      "text/plain": [
       "array([[0.72821146, 0.21129304, 0.5809344 ],\n",
       "       [0.546854  , 0.2912137 , 0.6676855 ],\n",
       "       [0.7406716 , 0.20565617, 0.5736641 ],\n",
       "       ...,\n",
       "       [0.7027532 , 0.2226657 , 0.5950684 ],\n",
       "       [0.72185266, 0.21414897, 0.5845497 ],\n",
       "       [0.67442185, 0.23515713, 0.60982114]], dtype=float32)"
      ]
     },
     "execution_count": 14,
     "metadata": {},
     "output_type": "execute_result"
    }
   ],
   "source": [
    "y_pred"
   ]
  },
  {
   "cell_type": "code",
   "execution_count": 15,
   "id": "66c573d9",
   "metadata": {},
   "outputs": [
    {
     "data": {
      "text/plain": [
       "array([[1., 0., 0.],\n",
       "       [0., 0., 1.],\n",
       "       [0., 0., 1.],\n",
       "       ...,\n",
       "       [0., 0., 1.],\n",
       "       [1., 0., 0.],\n",
       "       [1., 0., 0.]])"
      ]
     },
     "execution_count": 15,
     "metadata": {},
     "output_type": "execute_result"
    }
   ],
   "source": [
    "y_test"
   ]
  },
  {
   "cell_type": "code",
   "execution_count": 16,
   "id": "28506d3d",
   "metadata": {},
   "outputs": [
    {
     "name": "stdout",
     "output_type": "stream",
     "text": [
      "697/697 [==============================] - 5s 7ms/step - loss: 0.9291 - acc: 0.5231\n"
     ]
    },
    {
     "data": {
      "text/plain": [
       "[0.9291027784347534, 0.5231003761291504]"
      ]
     },
     "execution_count": 16,
     "metadata": {},
     "output_type": "execute_result"
    }
   ],
   "source": [
    "model.evaluate(x_train,y_train)"
   ]
  },
  {
   "cell_type": "code",
   "execution_count": 17,
   "id": "d2233790",
   "metadata": {},
   "outputs": [
    {
     "name": "stdout",
     "output_type": "stream",
     "text": [
      "175/175 [==============================] - 1s 7ms/step - loss: 0.9231 - acc: 0.5248\n"
     ]
    },
    {
     "data": {
      "text/plain": [
       "[0.9231104850769043, 0.5247578024864197]"
      ]
     },
     "execution_count": 17,
     "metadata": {},
     "output_type": "execute_result"
    }
   ],
   "source": [
    "model.evaluate(x_test,y_test)"
   ]
  },
  {
   "cell_type": "code",
   "execution_count": null,
   "id": "3cf47996",
   "metadata": {},
   "outputs": [],
   "source": []
  },
  {
   "cell_type": "code",
   "execution_count": null,
   "id": "28796ad3",
   "metadata": {},
   "outputs": [],
   "source": []
  },
  {
   "cell_type": "code",
   "execution_count": null,
   "id": "81b5a589",
   "metadata": {},
   "outputs": [],
   "source": []
  },
  {
   "cell_type": "code",
   "execution_count": null,
   "id": "5acabfa3",
   "metadata": {},
   "outputs": [],
   "source": []
  },
  {
   "cell_type": "code",
   "execution_count": null,
   "id": "4e2afef3",
   "metadata": {},
   "outputs": [],
   "source": []
  },
  {
   "cell_type": "code",
   "execution_count": null,
   "id": "0459a9c4",
   "metadata": {},
   "outputs": [],
   "source": []
  },
  {
   "cell_type": "code",
   "execution_count": null,
   "id": "634efcca",
   "metadata": {},
   "outputs": [],
   "source": []
  },
  {
   "cell_type": "code",
   "execution_count": null,
   "id": "c1bf4eae",
   "metadata": {},
   "outputs": [],
   "source": []
  },
  {
   "cell_type": "code",
   "execution_count": null,
   "id": "e8c3f67d",
   "metadata": {},
   "outputs": [],
   "source": []
  },
  {
   "cell_type": "code",
   "execution_count": null,
   "id": "616775c0",
   "metadata": {},
   "outputs": [],
   "source": []
  }
 ],
 "metadata": {
  "kernelspec": {
   "display_name": "Python 3",
   "language": "python",
   "name": "python3"
  },
  "language_info": {
   "codemirror_mode": {
    "name": "ipython",
    "version": 3
   },
   "file_extension": ".py",
   "mimetype": "text/x-python",
   "name": "python",
   "nbconvert_exporter": "python",
   "pygments_lexer": "ipython3",
   "version": "3.6.8"
  }
 },
 "nbformat": 4,
 "nbformat_minor": 5
}
