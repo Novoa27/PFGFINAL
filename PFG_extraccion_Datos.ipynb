{
 "cells": [
  {
   "cell_type": "markdown",
   "metadata": {},
   "source": [
    "# PFG: Creacion de datasets"
   ]
  },
  {
   "cell_type": "code",
   "execution_count": 1,
   "metadata": {},
   "outputs": [],
   "source": [
    "import pandas as pd\n",
    "import numpy as np\n",
    "from requests import Request, Session\n",
    "from requests.exceptions import ConnectionError, Timeout, TooManyRedirects\n",
    "import json\n",
    "import csv\n",
    "from serpwow.google_search_results import GoogleSearchResults\n",
    "import os"
   ]
  },
  {
   "cell_type": "code",
   "execution_count": 2,
   "metadata": {},
   "outputs": [],
   "source": [
    "api = \"E3E9C719CE6A4A11B185F528DB14A445\"\n",
    "\n",
    "# create the serpwow object, passing in our API key\n",
    "serpwow = GoogleSearchResults(api)"
   ]
  },
  {
   "cell_type": "code",
   "execution_count": 3,
   "metadata": {},
   "outputs": [],
   "source": [
    "def create_params(api,word):\n",
    "    # set up a dict for the search parameters\n",
    "    params = {\n",
    "      \"q\" : word,\n",
    "      \"search_type\" : \"trends\",\n",
    "      \"trends_resolution\" : \"dma\",\n",
    "      \"time_period\" : \"custom\",\n",
    "      \"time_period_min\" : \"07/20/2015\",\n",
    "      \"time_period_max\" : \"04/01/2021\"\n",
    "    }\n",
    "    return params\n",
    "\n",
    "def create_csv(params,i):\n",
    "    # retrieve the search results as CSV\n",
    "    result = serpwow.get_csv(params)\n",
    "    df = pd.DataFrame([x.split(',') for x in result.split('\\n')])\n",
    "    df = df[1:]\n",
    "    df.to_csv('Datos/'+str(i)+'.csv')"
   ]
  },
  {
   "cell_type": "code",
   "execution_count": 4,
   "metadata": {},
   "outputs": [],
   "source": [
    "#params = create_params(api,word)\n",
    "#create_csv(params)"
   ]
  },
  {
   "cell_type": "code",
   "execution_count": 5,
   "metadata": {},
   "outputs": [],
   "source": [
    "list_word = ['bitcoin','Nvidia','cryptocurrency','blockchain','Ethereum','mining']"
   ]
  },
  {
   "cell_type": "code",
   "execution_count": 6,
   "metadata": {
    "scrolled": true
   },
   "outputs": [
    {
     "name": "stdout",
     "output_type": "stream",
     "text": [
      "realizando  bitcoin\n",
      "bitcoin finalizado\n",
      "realizando  Nvidia\n",
      "Nvidia finalizado\n",
      "realizando  cryptocurrency\n",
      "cryptocurrency finalizado\n",
      "realizando  blockchain\n",
      "blockchain finalizado\n",
      "realizando  Ethereum\n",
      "Ethereum finalizado\n",
      "realizando  mining\n",
      "mining finalizado\n"
     ]
    }
   ],
   "source": [
    "for i in list_word:\n",
    "    print(\"realizando \",i)\n",
    "    params = create_params(api,i)\n",
    "    create_csv(params,i)\n",
    "    print(i, \"finalizado\")"
   ]
  },
  {
   "cell_type": "code",
   "execution_count": 7,
   "metadata": {},
   "outputs": [],
   "source": [
    "from cmc import coinmarketcap"
   ]
  },
  {
   "cell_type": "code",
   "execution_count": 9,
   "metadata": {},
   "outputs": [],
   "source": [
    "import yfinance as yf"
   ]
  },
  {
   "cell_type": "code",
   "execution_count": 10,
   "metadata": {},
   "outputs": [
    {
     "name": "stdout",
     "output_type": "stream",
     "text": [
      "[*********************100%***********************]  1 of 1 completed\n"
     ]
    }
   ],
   "source": [
    "data = yf.download(tickers=\"BTC-USD\", period=\"730d\", interval=\"1h\")"
   ]
  },
  {
   "cell_type": "code",
   "execution_count": 11,
   "metadata": {},
   "outputs": [
    {
     "data": {
      "text/html": [
       "<div>\n",
       "<style scoped>\n",
       "    .dataframe tbody tr th:only-of-type {\n",
       "        vertical-align: middle;\n",
       "    }\n",
       "\n",
       "    .dataframe tbody tr th {\n",
       "        vertical-align: top;\n",
       "    }\n",
       "\n",
       "    .dataframe thead th {\n",
       "        text-align: right;\n",
       "    }\n",
       "</style>\n",
       "<table border=\"1\" class=\"dataframe\">\n",
       "  <thead>\n",
       "    <tr style=\"text-align: right;\">\n",
       "      <th></th>\n",
       "      <th>Open</th>\n",
       "      <th>High</th>\n",
       "      <th>Low</th>\n",
       "      <th>Close</th>\n",
       "      <th>Adj Close</th>\n",
       "      <th>Volume</th>\n",
       "    </tr>\n",
       "    <tr>\n",
       "      <th>Date</th>\n",
       "      <th></th>\n",
       "      <th></th>\n",
       "      <th></th>\n",
       "      <th></th>\n",
       "      <th></th>\n",
       "      <th></th>\n",
       "    </tr>\n",
       "  </thead>\n",
       "  <tbody>\n",
       "    <tr>\n",
       "      <th>2019-07-07</th>\n",
       "      <td>11236.230469</td>\n",
       "      <td>11258.599609</td>\n",
       "      <td>11182.519531</td>\n",
       "      <td>11251.259766</td>\n",
       "      <td>11251.259766</td>\n",
       "      <td>0</td>\n",
       "    </tr>\n",
       "    <tr>\n",
       "      <th>2019-07-07</th>\n",
       "      <td>11246.769531</td>\n",
       "      <td>11254.839844</td>\n",
       "      <td>11124.690430</td>\n",
       "      <td>11199.540039</td>\n",
       "      <td>11199.540039</td>\n",
       "      <td>0</td>\n",
       "    </tr>\n",
       "    <tr>\n",
       "      <th>2019-07-07</th>\n",
       "      <td>11198.299805</td>\n",
       "      <td>11246.519531</td>\n",
       "      <td>11163.660156</td>\n",
       "      <td>11240.910156</td>\n",
       "      <td>11240.910156</td>\n",
       "      <td>11210752</td>\n",
       "    </tr>\n",
       "    <tr>\n",
       "      <th>2019-07-07</th>\n",
       "      <td>11239.809570</td>\n",
       "      <td>11239.809570</td>\n",
       "      <td>11131.990234</td>\n",
       "      <td>11191.839844</td>\n",
       "      <td>11191.839844</td>\n",
       "      <td>14647292</td>\n",
       "    </tr>\n",
       "    <tr>\n",
       "      <th>2019-07-07</th>\n",
       "      <td>11187.629883</td>\n",
       "      <td>11214.540039</td>\n",
       "      <td>11109.480469</td>\n",
       "      <td>11161.379883</td>\n",
       "      <td>11161.379883</td>\n",
       "      <td>16844316</td>\n",
       "    </tr>\n",
       "    <tr>\n",
       "      <th>...</th>\n",
       "      <td>...</td>\n",
       "      <td>...</td>\n",
       "      <td>...</td>\n",
       "      <td>...</td>\n",
       "      <td>...</td>\n",
       "      <td>...</td>\n",
       "    </tr>\n",
       "    <tr>\n",
       "      <th>2021-07-05</th>\n",
       "      <td>33725.210938</td>\n",
       "      <td>33770.187500</td>\n",
       "      <td>33545.734375</td>\n",
       "      <td>33646.191406</td>\n",
       "      <td>33646.191406</td>\n",
       "      <td>100124672</td>\n",
       "    </tr>\n",
       "    <tr>\n",
       "      <th>2021-07-05</th>\n",
       "      <td>33617.308594</td>\n",
       "      <td>33739.230469</td>\n",
       "      <td>33616.628906</td>\n",
       "      <td>33679.777344</td>\n",
       "      <td>33679.777344</td>\n",
       "      <td>249212928</td>\n",
       "    </tr>\n",
       "    <tr>\n",
       "      <th>2021-07-05</th>\n",
       "      <td>33677.648438</td>\n",
       "      <td>33726.335938</td>\n",
       "      <td>33213.660156</td>\n",
       "      <td>33726.335938</td>\n",
       "      <td>33726.335938</td>\n",
       "      <td>660406272</td>\n",
       "    </tr>\n",
       "    <tr>\n",
       "      <th>2021-07-05</th>\n",
       "      <td>33712.046875</td>\n",
       "      <td>33938.308594</td>\n",
       "      <td>33712.046875</td>\n",
       "      <td>33841.789062</td>\n",
       "      <td>33841.789062</td>\n",
       "      <td>307816448</td>\n",
       "    </tr>\n",
       "    <tr>\n",
       "      <th>2021-07-05</th>\n",
       "      <td>33806.796875</td>\n",
       "      <td>33806.796875</td>\n",
       "      <td>33806.796875</td>\n",
       "      <td>33806.796875</td>\n",
       "      <td>33806.796875</td>\n",
       "      <td>0</td>\n",
       "    </tr>\n",
       "  </tbody>\n",
       "</table>\n",
       "<p>17460 rows × 6 columns</p>\n",
       "</div>"
      ],
      "text/plain": [
       "                    Open          High           Low         Close  \\\n",
       "Date                                                                 \n",
       "2019-07-07  11236.230469  11258.599609  11182.519531  11251.259766   \n",
       "2019-07-07  11246.769531  11254.839844  11124.690430  11199.540039   \n",
       "2019-07-07  11198.299805  11246.519531  11163.660156  11240.910156   \n",
       "2019-07-07  11239.809570  11239.809570  11131.990234  11191.839844   \n",
       "2019-07-07  11187.629883  11214.540039  11109.480469  11161.379883   \n",
       "...                  ...           ...           ...           ...   \n",
       "2021-07-05  33725.210938  33770.187500  33545.734375  33646.191406   \n",
       "2021-07-05  33617.308594  33739.230469  33616.628906  33679.777344   \n",
       "2021-07-05  33677.648438  33726.335938  33213.660156  33726.335938   \n",
       "2021-07-05  33712.046875  33938.308594  33712.046875  33841.789062   \n",
       "2021-07-05  33806.796875  33806.796875  33806.796875  33806.796875   \n",
       "\n",
       "               Adj Close     Volume  \n",
       "Date                                 \n",
       "2019-07-07  11251.259766          0  \n",
       "2019-07-07  11199.540039          0  \n",
       "2019-07-07  11240.910156   11210752  \n",
       "2019-07-07  11191.839844   14647292  \n",
       "2019-07-07  11161.379883   16844316  \n",
       "...                  ...        ...  \n",
       "2021-07-05  33646.191406  100124672  \n",
       "2021-07-05  33679.777344  249212928  \n",
       "2021-07-05  33726.335938  660406272  \n",
       "2021-07-05  33841.789062  307816448  \n",
       "2021-07-05  33806.796875          0  \n",
       "\n",
       "[17460 rows x 6 columns]"
      ]
     },
     "execution_count": 11,
     "metadata": {},
     "output_type": "execute_result"
    }
   ],
   "source": [
    "data"
   ]
  },
  {
   "cell_type": "code",
   "execution_count": 12,
   "metadata": {},
   "outputs": [],
   "source": [
    "data.to_csv(\"btc_hour.csv\")"
   ]
  },
  {
   "cell_type": "code",
   "execution_count": null,
   "metadata": {},
   "outputs": [],
   "source": []
  }
 ],
 "metadata": {
  "kernelspec": {
   "display_name": "Python 3",
   "language": "python",
   "name": "python3"
  },
  "language_info": {
   "codemirror_mode": {
    "name": "ipython",
    "version": 3
   },
   "file_extension": ".py",
   "mimetype": "text/x-python",
   "name": "python",
   "nbconvert_exporter": "python",
   "pygments_lexer": "ipython3",
   "version": "3.6.8"
  }
 },
 "nbformat": 4,
 "nbformat_minor": 4
}
